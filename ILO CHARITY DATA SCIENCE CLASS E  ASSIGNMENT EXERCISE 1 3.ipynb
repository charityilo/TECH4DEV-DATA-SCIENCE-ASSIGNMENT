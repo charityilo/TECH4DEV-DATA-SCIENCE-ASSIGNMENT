{
 "cells": [
  {
   "cell_type": "code",
   "execution_count": 1,
   "id": "37c96937",
   "metadata": {},
   "outputs": [
    {
     "name": "stdout",
     "output_type": "stream",
     "text": [
      "\ta\tb\tc\n",
      "\\\\\n",
      "'\n",
      "\"\"\"\n",
      "C:\n",
      "in\the downward spiral\n"
     ]
    }
   ],
   "source": [
    "print(\"\\ta\\tb\\tc\")\n",
    "print(\"\\\\\\\\\")\n",
    "print(\"'\")\n",
    "print(\"\\\"\\\"\\\"\")\n",
    "print(\"C:\\nin\\the downward spiral\")\n",
    "\n",
    "# this is the output of the above code\n",
    "a\tb\tc   \n",
    "\\\\\n",
    "'\n",
    "\"\"\"\n",
    "C:\n",
    "in\the downward spiral\n"
   ]
  },
  {
   "cell_type": "code",
   "execution_count": 15,
   "id": "2f6cde6a",
   "metadata": {},
   "outputs": [
    {
     "name": "stdout",
     "output_type": "stream",
     "text": [
      "/ \\ // \\\\ /// \\\\\\\n"
     ]
    }
   ],
   "source": [
    "print(\"/ \\\\ // \\\\\\\\ /// \\\\\\\\\\\\\") # The \\ carries out an escape activity so to print \\ as a symbol we have to double it \\\\ #"
   ]
  },
  {
   "cell_type": "code",
   "execution_count": 30,
   "id": "6e669e34",
   "metadata": {},
   "outputs": [
    {
     "name": "stdout",
     "output_type": "stream",
     "text": [
      "This quote is from \n",
      "       \n",
      "Irish poet Oscar Wilde:\n",
      "      \n",
      "\"Music makes one feel so romantic \n",
      "       \n",
      "- at least it always gets on one’s nerves -\n",
      "       \n",
      "which is the same thing nowadays.\"\n"
     ]
    }
   ],
   "source": [
    "print('''This quote is from \n",
    "       \\nIrish poet Oscar Wilde:\n",
    "      \\n\"Music makes one feel so romantic \n",
    "       \\n- at least it always gets on one’s nerves -\n",
    "       \\nwhich is the same thing nowadays.\"''')    \n",
    "\n",
    "# I used the triple quotation mark in order to write strings of multiple lines #\n",
    "# \\n enables the output to be printed on a fresh line# "
   ]
  },
  {
   "cell_type": "code",
   "execution_count": 35,
   "id": "bdec8047",
   "metadata": {},
   "outputs": [
    {
     "name": "stdout",
     "output_type": "stream",
     "text": [
      "This quote is from \n",
      "\n",
      "Irish poet Oscar Wilde:\n",
      "\n",
      "\"Music makes one feel so romantic\n",
      "\n",
      "- at least it always gets on one's nerves – \n",
      "\n",
      "which is the same thing nowadays.\"\n",
      "\n"
     ]
    }
   ],
   "source": [
    " #method 2\n",
    "    \n",
    "quote = \"\"\"This quote is from \n",
    " \n",
    " Irish poet Oscar Wilde:\n",
    " \n",
    "\"Music makes one feel so romantic\n",
    "\n",
    "- at least it always gets on one's nerves – \n",
    "\n",
    "which is the same thing nowadays.\"\n",
    " \"\"\"\n",
    "print(quote)"
   ]
  },
  {
   "cell_type": "code",
   "execution_count": 41,
   "id": "ecbe0803",
   "metadata": {},
   "outputs": [
    {
     "name": "stdout",
     "output_type": "stream",
     "text": [
      "A \"quoted\" String is \n",
      "\n",
      "'much' better if you learn\n",
      "\n",
      "the rules of \"escape sequences.\"\n",
      "\n",
      "Also, \"\" represents an empty String.\n",
      "\n",
      "Don't forget: use \" instead of \" ! \n",
      "\n",
      "'' is not the same as \"\n",
      "\n"
     ]
    }
   ],
   "source": [
    " # 4.What print statements will generate this output?\n",
    "   \n",
    " quote = \"\"\"A \"quoted\" String is \n",
    " \n",
    " 'much' better if you learn\n",
    " \n",
    "the rules of \"escape sequences.\"\n",
    "\n",
    "Also, \"\" represents an empty String.\n",
    "\n",
    "Don't forget: use \\\" instead of \" ! \n",
    "\n",
    "'' is not the same as \"\n",
    "\"\"\"\n",
    "print(quote) #method 1"
   ]
  },
  {
   "cell_type": "code",
   "execution_count": 36,
   "id": "ab989d90",
   "metadata": {},
   "outputs": [
    {
     "name": "stdout",
     "output_type": "stream",
     "text": [
      "A \"quoted\" String is \n",
      "\n",
      "'much' better if you learn\n",
      "\n",
      "the rules of \"escape sequences.\"\n",
      "\n",
      "Also, \"\" represents an empty String.\n",
      "\n",
      "Don't forget: use \" instead of \" ! \n",
      "\n",
      "'' is not the same as \"\n"
     ]
    }
   ],
   "source": [
    "#method 2\n",
    "print('''A \"quoted\" String is \n",
    "\n",
    "'much' better if you learn\n",
    "\n",
    "the rules of \"escape sequences.\"\n",
    "\n",
    "Also, \"\" represents an empty String.\n",
    "\n",
    "Don't forget: use \" instead of \" ! \n",
    "\n",
    "'' is not the same as \"''')"
   ]
  },
  {
   "cell_type": "code",
   "execution_count": 40,
   "id": "5d836cd8",
   "metadata": {},
   "outputs": [
    {
     "name": "stdout",
     "output_type": "stream",
     "text": [
      "A \"quoted\" String is \n",
      "\n",
      "'much' better if you learn \n",
      "\n",
      " the rules of \"escape sequences.\" \n",
      "\n",
      " Also, \"\" represents an empty String. \n",
      "\n",
      " Don't forget: use \" instead of \" ! \n",
      "\n",
      "'' is not the same as \"\n"
     ]
    }
   ],
   "source": [
    "# METHOD 3 # What print statements will generate this output?\n",
    "\n",
    "print(\"A \\\"quoted\\\" String is \\n\\n'much' better if you learn \\n\\n the rules of \\\"escape sequences.\\\" \\n\\n Also, \\\"\\\" represents an empty String. \\n\\n Don't forget: use \\\" instead of \\\" ! \\n\\n'' is not the same as \\\"\")"
   ]
  },
  {
   "cell_type": "code",
   "execution_count": null,
   "id": "fae8d509",
   "metadata": {},
   "outputs": [],
   "source": [
    "# What values result from the following expressions?\n",
    "\n",
    "9 / 5      # answer is 1.8 the / is a float divisor that returns the integer and the accompanying fraction\n",
    "695 % 20   # answer is 15 the % modulo is returns the remainder in a divison\n",
    "7 + 6 * 5  # answer is 37 the * multiplication has more priority than + addition so muliplication is first done before the add\n",
    "7 * 6 + 5  # answer is 47 * multiplication has more priority than + addition so muliplication is first done before the addition\n",
    "248 % 100 / 5 # answer is 9.6. % and / are on the same priority and are left binded. Hence % is first executed before the float \n",
    "6 * 3 - 9 / 4  # the answer is 15.75. the * and / have the same level of priority higher than the - sgin and executed first\n",
    "(5 - 7) * 4  # answer is -8. though * has higher priority than the -, the subtraction is carried out first because of the bracket\n",
    "6 + (18 % (17 - 12)) # answer is 9. The inner bracket is first executed, then the outer bracket before the addition\n",
    "\n",
    "# the resulting v alues are\n",
    "# 1.8\n",
    "# 15\n",
    "# 37\n",
    "# 47\n",
    "# 9.6\n",
    "# 15.75\n",
    "# -8\n",
    "# 9\n"
   ]
  },
  {
   "cell_type": "code",
   "execution_count": null,
   "id": "cb93e12e",
   "metadata": {},
   "outputs": [],
   "source": []
  },
  {
   "cell_type": "code",
   "execution_count": null,
   "id": "f75c4ad9",
   "metadata": {},
   "outputs": [],
   "source": []
  },
  {
   "cell_type": "code",
   "execution_count": null,
   "id": "1737027f",
   "metadata": {},
   "outputs": [],
   "source": []
  }
 ],
 "metadata": {
  "kernelspec": {
   "display_name": "Python 3 (ipykernel)",
   "language": "python",
   "name": "python3"
  },
  "language_info": {
   "codemirror_mode": {
    "name": "ipython",
    "version": 3
   },
   "file_extension": ".py",
   "mimetype": "text/x-python",
   "name": "python",
   "nbconvert_exporter": "python",
   "pygments_lexer": "ipython3",
   "version": "3.11.5"
  }
 },
 "nbformat": 4,
 "nbformat_minor": 5
}
